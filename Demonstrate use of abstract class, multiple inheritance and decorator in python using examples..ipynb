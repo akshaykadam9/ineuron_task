{
 "cells": [
  {
   "cell_type": "markdown",
   "metadata": {},
   "source": [
    "# use of abstract class example\n"
   ]
  },
  {
   "cell_type": "code",
   "execution_count": 8,
   "metadata": {},
   "outputs": [
    {
     "name": "stdout",
     "output_type": "stream",
     "text": [
      "I can walk and run\n",
      "I can crawl\n",
      "I can bark\n",
      "I can roar\n"
     ]
    }
   ],
   "source": [
    "from abc import ABC, abstractmethod\n",
    "class Animal(ABC):\n",
    "    def move(self):\n",
    "        pass\n",
    "class Human(Animal):\n",
    "    def move(self):\n",
    "        try:\n",
    "            print(\"I can walk and run\")\n",
    "        except Exception as e:\n",
    "            print(e)\n",
    "class Snake(Animal):\n",
    "    def move(self):\n",
    "        try:\n",
    "            print(\"I can crawl\")\n",
    "        except Exception as e:\n",
    "            print(e)\n",
    "class Dog(Animal):\n",
    "    def move(self):\n",
    "        try:\n",
    "            print(\"I can bark\")\n",
    "        except Exception as e:\n",
    "            print(e)\n",
    "class Lion(Animal):\n",
    "    def move(self):\n",
    "        try:\n",
    "            print(\"I can roar\")\n",
    "        except Exception as e:\n",
    "            print(e)\n",
    "         \n",
    "\n",
    "        \n",
    "R = Human()\n",
    "R.move()\n",
    " \n",
    "K = Snake()\n",
    "K.move()\n",
    " \n",
    "R = Dog()\n",
    "R.move()\n",
    " \n",
    "K = Lion()\n",
    "K.move()"
   ]
  },
  {
   "cell_type": "markdown",
   "metadata": {},
   "source": [
    "# use of multiple inheritance with example"
   ]
  },
  {
   "cell_type": "code",
   "execution_count": 2,
   "metadata": {},
   "outputs": [
    {
     "name": "stdout",
     "output_type": "stream",
     "text": [
      "I smash and I've got the brains!\n"
     ]
    }
   ],
   "source": [
    "#use of multiple inheritance with example\n",
    "class hulk:\n",
    "    def smash(self):\n",
    "        return \"I smash\"\n",
    "class banner:\n",
    "    def speak(self):\n",
    "        return \"I've got the brains!\"\n",
    "class smarthulk(hulk, banner):\n",
    "    pass\n",
    "s1 = smarthulk()\n",
    "print(s1.smash(), \"and\", s1.speak())"
   ]
  },
  {
   "cell_type": "markdown",
   "metadata": {},
   "source": [
    "# decorator in python using example"
   ]
  },
  {
   "cell_type": "code",
   "execution_count": 7,
   "metadata": {},
   "outputs": [
    {
     "data": {
      "text/plain": [
       "'911'"
      ]
     },
     "execution_count": 7,
     "metadata": {},
     "output_type": "execute_result"
    }
   ],
   "source": [
    "class Cellphone:\n",
    "    def __init__(self, brand, number):\n",
    "        self.brand = brand\n",
    "        self.number = number\n",
    "        \n",
    "    def get_number(self):\n",
    "        return self.number\n",
    "      \n",
    "    @staticmethod\n",
    "    def get_emergency_number():\n",
    "        return \"911\"\n",
    "      \n",
    "Cellphone.get_emergency_number()"
   ]
  },
  {
   "cell_type": "code",
   "execution_count": null,
   "metadata": {},
   "outputs": [],
   "source": []
  }
 ],
 "metadata": {
  "kernelspec": {
   "display_name": "Python 3",
   "language": "python",
   "name": "python3"
  },
  "language_info": {
   "codemirror_mode": {
    "name": "ipython",
    "version": 3
   },
   "file_extension": ".py",
   "mimetype": "text/x-python",
   "name": "python",
   "nbconvert_exporter": "python",
   "pygments_lexer": "ipython3",
   "version": "3.8.3"
  }
 },
 "nbformat": 4,
 "nbformat_minor": 4
}
