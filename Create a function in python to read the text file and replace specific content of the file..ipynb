{
 "cells": [
  {
   "cell_type": "markdown",
   "metadata": {},
   "source": [
    "1. Create a function in python to read the text file and replace specific content\n",
    "   of the file."
   ]
  },
  {
   "cell_type": "code",
   "execution_count": 10,
   "metadata": {},
   "outputs": [],
   "source": [
    "#create txt file\n",
    "try:\n",
    "    f=open('example.txt','w+')\n",
    "    f.write('This is a placement assignment')\n",
    "    f.close()\n",
    "except Exception as e:\n",
    "    print(e)"
   ]
  },
  {
   "cell_type": "code",
   "execution_count": 11,
   "metadata": {},
   "outputs": [
    {
     "name": "stdout",
     "output_type": "stream",
     "text": [
      " Volume in drive C has no label.\n",
      " Volume Serial Number is C6DD-A353\n",
      "\n",
      " Directory of C:\\Users\\hp\\Desktop\\datascience\\ineuron task\n",
      "\n",
      "07/06/2022  14:25    <DIR>          .\n",
      "07/06/2022  14:09    <DIR>          ..\n",
      "07/06/2022  13:37    <DIR>          .ipynb_checkpoints\n",
      "07/06/2022  14:26                30 example.txt\n",
      "07/06/2022  14:24                30 example1.txt\n",
      "07/06/2022  14:25             2,293 Untitled.ipynb\n",
      "               3 File(s)          2,353 bytes\n",
      "               3 Dir(s)  113,561,833,472 bytes free\n"
     ]
    }
   ],
   "source": [
    "ls"
   ]
  },
  {
   "cell_type": "code",
   "execution_count": 12,
   "metadata": {},
   "outputs": [],
   "source": [
    "#replace specific content of the file.\n",
    "try:\n",
    "    f=open('example.txt','r')\n",
    "    data=f.read()\n",
    "    data=data.replace('placement','screening')\n",
    "    f=open('example.txt','w')\n",
    "    f.write(data)\n",
    "    f.close()\n",
    "except Exception as e:\n",
    "    print(e)"
   ]
  },
  {
   "cell_type": "code",
   "execution_count": null,
   "metadata": {},
   "outputs": [],
   "source": []
  }
 ],
 "metadata": {
  "kernelspec": {
   "display_name": "Python 3",
   "language": "python",
   "name": "python3"
  },
  "language_info": {
   "codemirror_mode": {
    "name": "ipython",
    "version": 3
   },
   "file_extension": ".py",
   "mimetype": "text/x-python",
   "name": "python",
   "nbconvert_exporter": "python",
   "pygments_lexer": "ipython3",
   "version": "3.8.3"
  }
 },
 "nbformat": 4,
 "nbformat_minor": 4
}
